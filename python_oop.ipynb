{
 "cells": [
  {
   "cell_type": "markdown",
   "metadata": {},
   "source": [
    "Classes and Objects"
   ]
  },
  {
   "cell_type": "code",
   "execution_count": 4,
   "metadata": {},
   "outputs": [
    {
     "name": "stdout",
     "output_type": "stream",
     "text": [
      "Tools: laser, drill, wrech\n"
     ]
    }
   ],
   "source": [
    "class Robot:\n",
    "\n",
    "    def __init__(self, model, *tools):\n",
    "\n",
    "        self.model = model\n",
    "        self.tools = tools\n",
    "    \n",
    "    def list_tools(self):\n",
    "        partial_str = \", \".join(self.tools)\n",
    "        return \"Tools: \" + partial_str\n",
    "\n",
    "my_robo = Robot(\"2020\", \"laser\", \"drill\",\"wrech\")\n",
    "print(my_robo.list_tools())"
   ]
  },
  {
   "cell_type": "code",
   "execution_count": 9,
   "metadata": {},
   "outputs": [
    {
     "name": "stdout",
     "output_type": "stream",
     "text": [
      "black\n"
     ]
    }
   ],
   "source": [
    "class Phone:\n",
    "\n",
    "    def __init__(self, **specs):\n",
    "        self.specs = specs\n",
    "\n",
    "    def get_spec(self, key):\n",
    "        if key in self.specs:\n",
    "            return self.specs[key]\n",
    "        \n",
    "        return \"Unknow\"\n",
    "    \n",
    "my_phoni = Phone(color=\"black\", storage=\"129GB\", brand=\"OPPO\")\n",
    "\n",
    "print(my_phoni.get_spec(\"color\"))\n"
   ]
  },
  {
   "cell_type": "code",
   "execution_count": 11,
   "metadata": {},
   "outputs": [
    {
     "name": "stdout",
     "output_type": "stream",
     "text": [
      "Name= Biryani\n",
      "Ingredients\n",
      "-Oil\n",
      "-Rice\n",
      "-Onion\n",
      "-Potato\n",
      "Nutrition\n",
      "-Calories 850 Kcals\n",
      "-Protien 40g\n"
     ]
    }
   ],
   "source": [
    "class Recipie:\n",
    "\n",
    "    def __init__(self, name, *ingredients, **nutrition):\n",
    "        self.name = name\n",
    "        self.ingredients = ingredients\n",
    "        self.nutrition = nutrition\n",
    "\n",
    "    def summary(self):\n",
    "        print(f\"Name= {self.name}\")\n",
    "        print(\"Ingredients\")\n",
    "        for i in self.ingredients:\n",
    "            print(\"-\"+i)\n",
    "\n",
    "        print(\"Nutrition\")\n",
    "        for key, value in self.nutrition.items():\n",
    "            print(\"-\" + key.capitalize() + \" \" + value)\n",
    "\n",
    "my_recipie = Recipie(\"Biryani\", \"Oil\", \"Rice\",\"Onion\",\"Potato\", calories=\"850 Kcals\", protien=\"40g\")\n",
    "my_recipie.summary()\n",
    "        "
   ]
  },
  {
   "cell_type": "markdown",
   "metadata": {},
   "source": [
    "Methods"
   ]
  },
  {
   "cell_type": "code",
   "execution_count": 4,
   "metadata": {},
   "outputs": [
    {
     "name": "stdout",
     "output_type": "stream",
     "text": [
      "Player health: 100\n",
      "After 30 damage: 70\n",
      "After 40 damage: 30\n",
      "After 30 damage: 0\n",
      "After 40 damage: 0\n"
     ]
    }
   ],
   "source": [
    "#Instance Methods\n",
    "\n",
    "class Player:\n",
    "    health = 100\n",
    "\n",
    "    def take_damage(self, amount):\n",
    "        Player.health -= amount\n",
    "\n",
    "        if Player.health < 0 :\n",
    "            Player.health = 0\n",
    "\n",
    "        print(f\"After {amount} damage: {Player.health}\")\n",
    "\n",
    "player = Player()\n",
    "\n",
    "print(\"Player health:\",player.health)\n",
    "\n",
    "while True:\n",
    "    user = int(input(\"Damage (or 0): \"))\n",
    "\n",
    "    if user == 0:\n",
    "        break\n",
    "    player.take_damage(user)\n"
   ]
  },
  {
   "cell_type": "code",
   "execution_count": 6,
   "metadata": {},
   "outputs": [
    {
     "name": "stdout",
     "output_type": "stream",
     "text": [
      "0°C is 32.0°F\n"
     ]
    }
   ],
   "source": [
    "#Static Methods\n",
    "\n",
    "class Temperature:\n",
    "    @staticmethod\n",
    "    def to_fahrenheit(c):\n",
    "        return ((c*(9/5))+32)\n",
    "    \n",
    "user = int(input(\"Temperature: \"))   \n",
    "result = Temperature.to_fahrenheit(user)\n",
    "print(f\"{user}°C is {result}°F\")"
   ]
  },
  {
   "cell_type": "code",
   "execution_count": 7,
   "metadata": {},
   "outputs": [
    {
     "name": "stdout",
     "output_type": "stream",
     "text": [
      "Total books: 3\n",
      "Total books: 3\n"
     ]
    }
   ],
   "source": [
    "#Class Method\n",
    "\n",
    "class Library:\n",
    "    book_count = 0\n",
    "\n",
    "    def __init__(self, title):\n",
    "        self.title = title\n",
    "        Library.book_count +=1\n",
    "    \n",
    "    @classmethod\n",
    "    def get_book_count(cls):\n",
    "        \n",
    "        print(\"Total books:\",Library.book_count)\n",
    "    \n",
    "book_1 = Library(\"Power of No\") \n",
    "book_2 = Library(\"Without me\")\n",
    "book_3 = Library(\"Uknown\")\n",
    "Library.get_book_count()\n",
    "book_3.get_book_count()\n",
    "        \n",
    "        "
   ]
  },
  {
   "cell_type": "code",
   "execution_count": null,
   "metadata": {},
   "outputs": [],
   "source": [
    "#Property Method\n",
    "\n"
   ]
  }
 ],
 "metadata": {
  "kernelspec": {
   "display_name": "Python 3",
   "language": "python",
   "name": "python3"
  },
  "language_info": {
   "codemirror_mode": {
    "name": "ipython",
    "version": 3
   },
   "file_extension": ".py",
   "mimetype": "text/x-python",
   "name": "python",
   "nbconvert_exporter": "python",
   "pygments_lexer": "ipython3",
   "version": "3.12.6"
  }
 },
 "nbformat": 4,
 "nbformat_minor": 2
}
