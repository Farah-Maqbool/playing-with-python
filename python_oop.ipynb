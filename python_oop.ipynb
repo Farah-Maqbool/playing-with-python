{
 "cells": [
  {
   "cell_type": "markdown",
   "metadata": {},
   "source": [
    "Classes and Objects"
   ]
  },
  {
   "cell_type": "code",
   "execution_count": 4,
   "metadata": {},
   "outputs": [
    {
     "name": "stdout",
     "output_type": "stream",
     "text": [
      "Tools: laser, drill, wrech\n"
     ]
    }
   ],
   "source": [
    "class Robot:\n",
    "\n",
    "    def __init__(self, model, *tools):\n",
    "\n",
    "        self.model = model\n",
    "        self.tools = tools\n",
    "    \n",
    "    def list_tools(self):\n",
    "        partial_str = \", \".join(self.tools)\n",
    "        return \"Tools: \" + partial_str\n",
    "\n",
    "my_robo = Robot(\"2020\", \"laser\", \"drill\",\"wrech\")\n",
    "print(my_robo.list_tools())"
   ]
  },
  {
   "cell_type": "code",
   "execution_count": 9,
   "metadata": {},
   "outputs": [
    {
     "name": "stdout",
     "output_type": "stream",
     "text": [
      "black\n"
     ]
    }
   ],
   "source": [
    "class Phone:\n",
    "\n",
    "    def __init__(self, **specs):\n",
    "        self.specs = specs\n",
    "\n",
    "    def get_spec(self, key):\n",
    "        if key in self.specs:\n",
    "            return self.specs[key]\n",
    "        \n",
    "        return \"Unknow\"\n",
    "    \n",
    "my_phoni = Phone(color=\"black\", storage=\"129GB\", brand=\"OPPO\")\n",
    "\n",
    "print(my_phoni.get_spec(\"color\"))\n"
   ]
  },
  {
   "cell_type": "code",
   "execution_count": null,
   "metadata": {},
   "outputs": [],
   "source": []
  }
 ],
 "metadata": {
  "kernelspec": {
   "display_name": "Python 3",
   "language": "python",
   "name": "python3"
  },
  "language_info": {
   "codemirror_mode": {
    "name": "ipython",
    "version": 3
   },
   "file_extension": ".py",
   "mimetype": "text/x-python",
   "name": "python",
   "nbconvert_exporter": "python",
   "pygments_lexer": "ipython3",
   "version": "3.12.6"
  }
 },
 "nbformat": 4,
 "nbformat_minor": 2
}
