{
 "cells": [
  {
   "cell_type": "markdown",
   "metadata": {},
   "source": [
    "Learn numpy basic"
   ]
  },
  {
   "cell_type": "code",
   "execution_count": 2,
   "metadata": {},
   "outputs": [],
   "source": [
    "import numpy as np"
   ]
  },
  {
   "cell_type": "markdown",
   "metadata": {},
   "source": [
    "Creating array from list"
   ]
  },
  {
   "cell_type": "code",
   "execution_count": 4,
   "metadata": {},
   "outputs": [
    {
     "name": "stdout",
     "output_type": "stream",
     "text": [
      "1D array: [1 2 3]\n",
      "2D array: [[1 2 3]\n",
      " [4 5 6]]\n"
     ]
    }
   ],
   "source": [
    "arr_1d = np.array([1,2,3])\n",
    "print(\"1D array:\",arr_1d)\n",
    "\n",
    "arr_2d = np.array([[1,2,3],[4,5,6]])\n",
    "print(\"2D array:\",arr_2d)\n",
    "\n"
   ]
  },
  {
   "cell_type": "markdown",
   "metadata": {},
   "source": [
    "List Vs NumPy array"
   ]
  },
  {
   "cell_type": "code",
   "execution_count": 6,
   "metadata": {},
   "outputs": [
    {
     "name": "stdout",
     "output_type": "stream",
     "text": [
      "Python list Multiplication:  [1, 2, 3, 1, 2, 3]\n",
      "Python list Multiplication:  [2 4 6]\n"
     ]
    }
   ],
   "source": [
    "py_list = [1,2,3] #The elements themselves are not multiplied; the entire list is replicated.\n",
    "print(\"Python list Multiplication: \", py_list * 2)\n",
    "\n",
    "np_array = np.array([1,2,3]) #Element themselves multiplied\n",
    "print(\"Python list Multiplication: \", np_array * 2)"
   ]
  },
  {
   "cell_type": "code",
   "execution_count": null,
   "metadata": {},
   "outputs": [
    {
     "name": "stdout",
     "output_type": "stream",
     "text": [
      "list operation time:  0.2352912425994873\n",
      "Numpy array operation time:  0.005133152008056641\n"
     ]
    }
   ],
   "source": [
    "import time\n",
    "\n",
    "start = time.time()\n",
    "py_list = [i*2 for i in range(100000)]\n",
    "print(\"list operation time: \", time.time() - start)\n",
    "\n",
    "# arange() in numpy allow us to create array\n",
    "start = time.time()\n",
    "ar_numpy = np.arange(100000) * 2\n",
    "print(\"Numpy array operation time: \", time.time() - start)"
   ]
  },
  {
   "cell_type": "markdown",
   "metadata": {},
   "source": [
    "Creating array from scartch"
   ]
  },
  {
   "cell_type": "code",
   "execution_count": 31,
   "metadata": {},
   "outputs": [
    {
     "name": "stdout",
     "output_type": "stream",
     "text": [
      "Zero Matrix:\n",
      " [[0. 0. 0.]\n",
      " [0. 0. 0.]\n",
      " [0. 0. 0.]]\n",
      "Identity Matrix:\n",
      " [[1. 1. 1.]\n",
      " [1. 1. 1.]\n",
      " [1. 1. 1.]]\n",
      "Full Matrix:\n",
      " [[5 5 5]\n",
      " [5 5 5]\n",
      " [5 5 5]]\n",
      "Random Matrix:\n",
      " [[0.58269419 0.37435314 0.72337192]\n",
      " [0.17431256 0.93632189 0.10489397]\n",
      " [0.81856515 0.50483488 0.61240496]]\n",
      "[[1 0 1]\n",
      " [1 1 0]\n",
      " [0 1 1]]\n",
      "Random Matrix:\n",
      " [[5 3 2]\n",
      " [3 6 4]\n",
      " [3 2 0]]\n",
      "Sequence Matrix:\n",
      " [ 0  5 10 15 20 25 30 35 40 45 50 55 60 65 70 75 80 85 90 95]\n"
     ]
    }
   ],
   "source": [
    "# zero matrics\n",
    "zeros = np.zeros((3,3))\n",
    "print(\"Zero Matrix:\\n\",zeros)\n",
    "\n",
    "#ones matrix\n",
    "ones = np.ones((3,3))\n",
    "print(\"Identity Matrix:\\n\",ones)\n",
    "\n",
    "#full\n",
    "full = np.full((3,3),5)\n",
    "print(\"Full Matrix:\\n\",full)\n",
    "\n",
    "#random matrix\n",
    "random = np.random.random((3,3))\n",
    "print(\"Random Matrix:\\n\",random)\n",
    "\n",
    "## note\n",
    "# Generate a 3x3 matrix of random floats between 0 and 1\n",
    "float_matrix = np.random.rand(3, 3)\n",
    "\n",
    "# Convert to integers (0 or 1) by thresholding\n",
    "int_matrix = (float_matrix > 0.5).astype(int)\n",
    "print(int_matrix)\n",
    "\n",
    "random = np.random.randint(0,10,(3,3))\n",
    "print(\"Random Matrix:\\n\",random)\n",
    "\n",
    "#sequence\n",
    "\n",
    "sequence = np.arange(0,100,5)\n",
    "print(\"Sequence Matrix:\\n\",sequence)"
   ]
  },
  {
   "cell_type": "markdown",
   "metadata": {},
   "source": [
    "Vector, Matrix and Tensor"
   ]
  },
  {
   "cell_type": "code",
   "execution_count": null,
   "metadata": {},
   "outputs": [
    {
     "name": "stdout",
     "output_type": "stream",
     "text": [
      "Vector:  [1 2 3]\n",
      "Matrix:  [[1 2]\n",
      " [3 4]]\n",
      "Tensor:  [[[1 2]\n",
      "  [3 4]]\n",
      "\n",
      " [[5 6]\n",
      "  [7 8]]]\n"
     ]
    }
   ],
   "source": [
    "# 1D called vector\n",
    "vector = np.array([1,2,3])\n",
    "print(\"Vector: \", vector)\n",
    "\n",
    "#2D called matrix\n",
    "matrix = np.array([[1,2],\n",
    "                   [3,4]])\n",
    "print(\"Matrix: \", matrix)\n",
    "\n",
    "#multi dimension called Tensor\n",
    "tensor = np.array([\n",
    "    [\n",
    "        [1,2],\n",
    "        [3,4]\n",
    "    ],\n",
    "    [\n",
    "        [5,6],\n",
    "        [7,8]\n",
    "    ]\n",
    "])\n",
    "print(\"Tensor: \", tensor)"
   ]
  },
  {
   "cell_type": "markdown",
   "metadata": {},
   "source": [
    "Array Properties"
   ]
  },
  {
   "cell_type": "code",
   "execution_count": 27,
   "metadata": {},
   "outputs": [
    {
     "name": "stdout",
     "output_type": "stream",
     "text": [
      "Shape:  (2, 3)\n",
      "Dimension:  2\n",
      "Size:  6\n",
      "DType:  int64\n"
     ]
    }
   ],
   "source": [
    "np_array = np.array([[1,2,3],\n",
    "                     [4,5,6]])\n",
    "print(\"Shape: \", np_array.shape)\n",
    "print(\"Dimension: \", np_array.ndim)\n",
    "print(\"Size: \", np_array.size) # tell the total no of elements in array\n",
    "print(\"DType: \", np_array.dtype) # tell the type of elements in array"
   ]
  },
  {
   "cell_type": "markdown",
   "metadata": {},
   "source": [
    "Array Shaping"
   ]
  },
  {
   "cell_type": "code",
   "execution_count": 29,
   "metadata": {},
   "outputs": [
    {
     "name": "stdout",
     "output_type": "stream",
     "text": [
      "Original Array: [ 1  2  3  4  5  6  7  8  9 10 11 12 13 14 15 16]\n",
      "\n",
      "Reshape Array: \n",
      " [[ 1  2  3  4]\n",
      " [ 5  6  7  8]\n",
      " [ 9 10 11 12]\n",
      " [13 14 15 16]]\n",
      "\n",
      "Flatten Array: [ 1  2  3  4  5  6  7  8  9 10 11 12 13 14 15 16]\n",
      "\n",
      "Ravel Array: [ 1  2  3  4  5  6  7  8  9 10 11 12 13 14 15 16]\n",
      "\n",
      "Changes directly happen in reshape array: \n",
      " [[ 3  2  3  4]\n",
      " [ 5  6  7  8]\n",
      " [ 9 10 11 12]\n",
      " [13 14 15 16]]\n",
      "\n",
      "Flatten:  [ 1  2  3  4  5  6  7  8  9 10 11 12 13 14 15 16]\n",
      "\n",
      "Transpose: \n",
      " [[ 3  5  9 13]\n",
      " [ 2  6 10 14]\n",
      " [ 3  7 11 15]\n",
      " [ 4  8 12 16]]\n"
     ]
    }
   ],
   "source": [
    "#original array\n",
    "original_array = np.arange(1,17)\n",
    "print(\"Original Array:\", original_array)\n",
    "\n",
    "#reshape array\n",
    "reshape = original_array.reshape((4,4))\n",
    "print(\"\\nReshape Array: \\n\", reshape)\n",
    "\n",
    "#flatten function convert multi dimensional array into 1D\n",
    "#Always gives you a copy. If you modify the result of flatten(), \n",
    "# the original array stays untouched because it’s a separate piece of data.\n",
    "flatten = reshape.flatten()\n",
    "print(\"\\nFlatten Array:\", flatten)\n",
    "\n",
    "#ravel function convert multi dimensional array into 1D\n",
    "#ravel does not change the original array, it just returns the \n",
    "#view of that array in 1D, but when we make changes in the returned array, the original array changes.\n",
    "ravel = reshape.ravel()\n",
    "print(\"\\nRavel Array:\", ravel)\n",
    "ravel[0] = 3\n",
    "print(\"\\nChanges directly happen in reshape array: \\n\",reshape) #original array change\n",
    "print(\"\\nFlatten: \", flatten) #flatten still doesn't change because flatten make copy \n",
    "\n",
    "#transopse matrix\n",
    "transpose = reshape.T\n",
    "print(\"\\nTranspose: \\n\", transpose) "
   ]
  },
  {
   "cell_type": "code",
   "execution_count": null,
   "metadata": {},
   "outputs": [],
   "source": []
  },
  {
   "cell_type": "markdown",
   "metadata": {},
   "source": []
  },
  {
   "cell_type": "code",
   "execution_count": null,
   "metadata": {},
   "outputs": [],
   "source": []
  }
 ],
 "metadata": {
  "kernelspec": {
   "display_name": "Python 3",
   "language": "python",
   "name": "python3"
  },
  "language_info": {
   "codemirror_mode": {
    "name": "ipython",
    "version": 3
   },
   "file_extension": ".py",
   "mimetype": "text/x-python",
   "name": "python",
   "nbconvert_exporter": "python",
   "pygments_lexer": "ipython3",
   "version": "3.12.6"
  }
 },
 "nbformat": 4,
 "nbformat_minor": 2
}
