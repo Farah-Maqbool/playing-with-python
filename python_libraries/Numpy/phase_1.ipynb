{
 "cells": [
  {
   "cell_type": "markdown",
   "metadata": {},
   "source": [
    "Learn numpy basic"
   ]
  },
  {
   "cell_type": "code",
   "execution_count": 1,
   "metadata": {},
   "outputs": [],
   "source": [
    "import numpy as np"
   ]
  },
  {
   "cell_type": "markdown",
   "metadata": {},
   "source": [
    "Creating array from list"
   ]
  },
  {
   "cell_type": "code",
   "execution_count": 4,
   "metadata": {},
   "outputs": [
    {
     "name": "stdout",
     "output_type": "stream",
     "text": [
      "1D array: [1 2 3]\n",
      "2D array: [[1 2 3]\n",
      " [4 5 6]]\n"
     ]
    }
   ],
   "source": [
    "arr_1d = np.array([1,2,3])\n",
    "print(\"1D array:\",arr_1d)\n",
    "\n",
    "arr_2d = np.array([[1,2,3],[4,5,6]])\n",
    "print(\"2D array:\",arr_2d)\n",
    "\n"
   ]
  },
  {
   "cell_type": "markdown",
   "metadata": {},
   "source": [
    "List Vs NumPy array"
   ]
  },
  {
   "cell_type": "code",
   "execution_count": 6,
   "metadata": {},
   "outputs": [
    {
     "name": "stdout",
     "output_type": "stream",
     "text": [
      "Python list Multiplication:  [1, 2, 3, 1, 2, 3]\n",
      "Python list Multiplication:  [2 4 6]\n"
     ]
    }
   ],
   "source": [
    "py_list = [1,2,3] #The elements themselves are not multiplied; the entire list is replicated.\n",
    "print(\"Python list Multiplication: \", py_list * 2)\n",
    "\n",
    "np_array = np.array([1,2,3]) #Element themselves multiplied\n",
    "print(\"Python list Multiplication: \", np_array * 2)"
   ]
  },
  {
   "cell_type": "code",
   "execution_count": 7,
   "metadata": {},
   "outputs": [
    {
     "name": "stdout",
     "output_type": "stream",
     "text": [
      "list operation time:  0.015990257263183594\n",
      "list operation time:  0.0009996891021728516\n"
     ]
    }
   ],
   "source": [
    "import time\n",
    "\n",
    "start = time.time()\n",
    "py_list = [i*2 for i in range(100000)]\n",
    "print(\"list operation time: \", time.time() - start)\n",
    "\n",
    "# arange() in numpy allow us to create array\n",
    "start = time.time()\n",
    "ar_numpy = np.arange(100000) * 2\n",
    "print(\"list operation time: \", time.time() - start)"
   ]
  },
  {
   "cell_type": "markdown",
   "metadata": {},
   "source": [
    "Creating array from scartch"
   ]
  },
  {
   "cell_type": "code",
   "execution_count": 22,
   "metadata": {},
   "outputs": [
    {
     "name": "stdout",
     "output_type": "stream",
     "text": [
      "Zero Matrix:\n",
      " [[0. 0. 0.]\n",
      " [0. 0. 0.]\n",
      " [0. 0. 0.]]\n",
      "Identity Matrix:\n",
      " [[1. 1. 1.]\n",
      " [1. 1. 1.]\n",
      " [1. 1. 1.]]\n",
      "Full Matrix:\n",
      " [[5 5 5]\n",
      " [5 5 5]\n",
      " [5 5 5]]\n",
      "Random Matrix:\n",
      " [[0.98779919 0.82971155 0.23192444]\n",
      " [0.10856736 0.69588549 0.8243819 ]\n",
      " [0.87537661 0.08025739 0.01780839]]\n",
      "[[0 0 0]\n",
      " [1 1 1]\n",
      " [1 0 1]]\n",
      "Random Matrix:\n",
      " [[8 5 9]\n",
      " [0 1 6]\n",
      " [7 9 1]]\n",
      "Sequence Matrix:\n",
      " [ 0  5 10 15 20 25 30 35 40 45 50 55 60 65 70 75 80 85 90 95]\n"
     ]
    }
   ],
   "source": [
    "# zero matrics\n",
    "zeros = np.zeros((3,3))\n",
    "print(\"Zero Matrix:\\n\",zeros)\n",
    "\n",
    "#ones matrix\n",
    "ones = np.ones((3,3))\n",
    "print(\"Identity Matrix:\\n\",ones)\n",
    "\n",
    "#full\n",
    "full = np.full((3,3),5)\n",
    "print(\"Full Matrix:\\n\",full)\n",
    "\n",
    "#random matrix\n",
    "random = np.random.random((3,3))\n",
    "print(\"Random Matrix:\\n\",random)\n",
    "\n",
    "## note\n",
    "# Generate a 3x3 matrix of random floats between 0 and 1\n",
    "float_matrix = np.random.rand(3, 3)\n",
    "\n",
    "# Convert to integers (0 or 1) by thresholding\n",
    "int_matrix = (float_matrix > 0.5).astype(int)\n",
    "print(int_matrix)\n",
    "\n",
    "random = np.random.randint(0,10,(3,3))\n",
    "print(\"Random Matrix:\\n\",random)\n",
    "\n",
    "#sequence\n",
    "\n",
    "sequence = np.arange(0,100,5)\n",
    "print(\"Sequence Matrix:\\n\",sequence)"
   ]
  },
  {
   "cell_type": "code",
   "execution_count": null,
   "metadata": {},
   "outputs": [],
   "source": []
  },
  {
   "cell_type": "code",
   "execution_count": null,
   "metadata": {},
   "outputs": [],
   "source": []
  }
 ],
 "metadata": {
  "kernelspec": {
   "display_name": "Python 3",
   "language": "python",
   "name": "python3"
  },
  "language_info": {
   "codemirror_mode": {
    "name": "ipython",
    "version": 3
   },
   "file_extension": ".py",
   "mimetype": "text/x-python",
   "name": "python",
   "nbconvert_exporter": "python",
   "pygments_lexer": "ipython3",
   "version": "3.12.6"
  }
 },
 "nbformat": 4,
 "nbformat_minor": 2
}
